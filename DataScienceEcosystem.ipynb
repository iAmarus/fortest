{
 "cells": [
  {
   "cell_type": "markdown",
   "id": "4b290ae9-460c-4e02-bd0a-5ae8f0215fd5",
   "metadata": {
    "tags": []
   },
   "source": [
    "<h1>Data Science Tools and Ecosystem</h1>"
   ]
  },
  {
   "cell_type": "markdown",
   "id": "13f26ea4-6b38-45a4-8328-727f4b7a228a",
   "metadata": {},
   "source": [
    "In this notebook, Data Science Tools and Ecosystem are summarized."
   ]
  },
  {
   "cell_type": "markdown",
   "id": "d7a59683-0f8f-4353-ae1d-fdc3766befc2",
   "metadata": {},
   "source": [
    "Some of the popular languages that Data Scientists use are:\n",
    "<ol>\n",
    "    <li> python</li>\n",
    "    <li>R</li>\n",
    "    <li> JAVA</li>\n",
    "</ol>"
   ]
  },
  {
   "cell_type": "markdown",
   "id": "bf281399-1329-4262-a293-8c3ad935c67f",
   "metadata": {},
   "source": [
    "Some of the commonly used libraries used by Data Scientists include:\n",
    "<ol>\n",
    "    <li> pandas</li>\n",
    "    <li>numpy</li>\n",
    "    <li> sciketlearn</li>\n",
    "</ol>"
   ]
  },
  {
   "cell_type": "markdown",
   "id": "6b5fdc10-eea3-4847-9180-7b2a70bb6b70",
   "metadata": {},
   "source": [
    "| Data Science Tools |\n",
    "|----------|\n",
    "| Jupyter Notebook   |\n",
    "| Python   |\n",
    "| Apache Spark|\n"
   ]
  },
  {
   "cell_type": "markdown",
   "id": "813ec820-e194-47b0-953b-83ba6d61ce87",
   "metadata": {
    "tags": []
   },
   "source": [
    "### Below are a few examples of evaluating arithmetic expressions in Python"
   ]
  },
  {
   "cell_type": "code",
   "execution_count": 1,
   "id": "25d6b880-d674-490a-8dc8-c93a6c5e3a80",
   "metadata": {
    "tags": []
   },
   "outputs": [
    {
     "data": {
      "text/plain": [
       "17"
      ]
     },
     "execution_count": 1,
     "metadata": {},
     "output_type": "execute_result"
    }
   ],
   "source": [
    "#This a simple arithmetic expression to mutiply then add integers\n",
    "(3*4)+5"
   ]
  },
  {
   "cell_type": "code",
   "execution_count": 2,
   "id": "7b9b0f4b-d6b9-45fc-a1e9-ee66e0cca369",
   "metadata": {
    "tags": []
   },
   "outputs": [
    {
     "name": "stdout",
     "output_type": "stream",
     "text": [
      "3.3333333333333335\n"
     ]
    }
   ],
   "source": [
    "#This will convert 200 minutes to hours by diving by 60\n",
    "minutes = 200\n",
    "hours = minutes / 60\n",
    "print(hours)\n"
   ]
  },
  {
   "cell_type": "markdown",
   "id": "35ee1046-328e-46dc-abbf-0d2ae97e4d95",
   "metadata": {},
   "source": [
    "<b>Objectives:</b>\n",
    "<ul>\n",
    "<li>python</li>\n",
    "    <li>R</li>\n",
    "    <li>java</li>\n",
    "</ul>"
   ]
  },
  {
   "cell_type": "markdown",
   "id": "3f9a50fa-f1c8-4e29-892c-68e09d3a1192",
   "metadata": {},
   "source": [
    "## Author \n",
    "Mohammed"
   ]
  },
  {
   "cell_type": "code",
   "execution_count": null,
   "id": "6bb65683-9e3f-4ea2-a2a4-ca7151a2359b",
   "metadata": {},
   "outputs": [],
   "source": []
  }
 ],
 "metadata": {
  "kernelspec": {
   "display_name": "Python",
   "language": "python",
   "name": "conda-env-python-py"
  },
  "language_info": {
   "codemirror_mode": {
    "name": "ipython",
    "version": 3
   },
   "file_extension": ".py",
   "mimetype": "text/x-python",
   "name": "python",
   "nbconvert_exporter": "python",
   "pygments_lexer": "ipython3",
   "version": "3.7.12"
  }
 },
 "nbformat": 4,
 "nbformat_minor": 5
}
